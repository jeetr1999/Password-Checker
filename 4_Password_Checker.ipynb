{
  "nbformat": 4,
  "nbformat_minor": 0,
  "metadata": {
    "colab": {
      "provenance": []
    },
    "kernelspec": {
      "name": "python3",
      "display_name": "Python 3"
    },
    "language_info": {
      "name": "python"
    }
  },
  "cells": [
    {
      "cell_type": "markdown",
      "source": [
        "# Password Checker"
      ],
      "metadata": {
        "id": "MLAskIgZgjYZ"
      }
    },
    {
      "cell_type": "markdown",
      "source": [
        "This is one of those projects that doesn't sound that exisiting but is actually impressive once we start working on it and see how it works. \n",
        "\n",
        "We are going to build a password checker, but not a silly dumb password checker. This is legitimately going to be the most secure way for us to check if a password has ever been hacked. So, what will happen is we will be able to type in our terminal `python3 checkmypass.py`, and when we run this program, we will be able to input any password we have and check if the password has ever been hacked or not. "
      ],
      "metadata": {
        "id": "V92t9LIbhMdm"
      }
    },
    {
      "cell_type": "markdown",
      "source": [
        "## How Hackers Work?"
      ],
      "metadata": {
        "id": "zeLrcs6_iZHo"
      }
    },
    {
      "cell_type": "markdown",
      "source": [
        "How are we going to build this tool? How are we going to know which passwords have been hacked? And what does it really mean anyway? \n",
        "\n",
        "Passwords get leaked all the time. We have heard about data breaches. Facebook has been hacked with data breaches. And the same goes for yahoo, linkedin, and all the big companines out there. All of these big compaines sometimes get their databases leaked and essetially what happens, sometimes, our username and passwords get leaked to the public. And hackers compile these lists of leaked usernames and passwords to try and log in to different services. So, there are databases, we can think of them as a massive execl file, of all email and passwords that have ever been leaked throughout history. There is actually a website created by somebody called Troy Hunt who is a very famous security researcher, and its called `haveibeenpawned`. There we can enter our email address, and check if our email address has ever been leaked. And if the result shows that the email has been hacked it means that it has been a part of the databreach. So, maybe that email was used as facebook login when facebook got hacked, and some users stole the user information, that email was a part of it. There, we have an option for passwords too. We can actually do the same thing for passwords. We can check the password to see if it was pawned.\n",
        "\n",
        "Why does this matter? \n",
        "<br>Hackers use something called `dictionary attacks`. A dictionary attack, kind of like a python dictionary uses a massive dictionary with key and value of a username and password to attempt to log in to websites using the massive lists of information. If someone's username and password has ever been leaked, a hacker simply runs a `brute force attack` where it just loops through all the leaked username and passwords and tries to log in. Maybe, for instance, they will try to access facebook by looping through the list, eventually they will be able to match something and be able to log in. Most of the time, even though the website is trusted and it uses https, we should never really trust a website with our password. Maybe a big website like facebook, google or something like that we trust. But ideally, we don't want to send our password over the internet. Because, as soon as we click `pwned` on the search bar, the password is being transferred to a server somewhere in the world, and somebody could actually intercept it. So, there is actually a more secure way of doing this. And this is what we are going to build. The same website gives us a password API for us to do the same thing that it does to check our password in a more secured way because we could trust the website, but the best security is to trust nonne. "
      ],
      "metadata": {
        "id": "r2YbhBJ2ifVs"
      }
    },
    {
      "cell_type": "markdown",
      "source": [
        "## Password API"
      ],
      "metadata": {
        "id": "-R7cjA-UmT1c"
      }
    },
    {
      "cell_type": "markdown",
      "source": [
        "Lets get to the first step of building our secure password checker. We will name our Python file as `checkmypass.py`. What we want to do is initially import the `requests` module. If not installed, it can we simply installed using `pip install requests`. The requests module is going to allow us to make a request. It is kind of like having a browser without the actual browser. We can manually request something as if we have a browser and we get some data back. The way we can actually use the request module with the Password API is that we can have the Password API url\n",
        "```\n",
        "import requests\n",
        "url = 'https://api.pwnedpasswords.com/range/' + 'password123`\n",
        "res = request.get(url)\n",
        "print(res)\n",
        "```\n",
        "This is the url that we are going to use. There, we will get a response by doing the `response.get(url)`. The code will output `<Response [400]>`. A `Response` or `400` is not good. Usually that means unauthorized or something is not right with the API. The desired response is a response of 200. 200 means okay. The reason this happens is because the way we initialized the api, is not how it actually works. We just passed a password but the way this api works is that it uses something called hashing. Hashing a password is something that we should always do. Let's say we are saving a user's password to a user's database, we should never store a user's password in plain text (exactly what the password is). Instead we want to hash the password - run it through a hashing algorithm to make it gibberish. The key takeaway is that hashing is a one way function. There are many different hashing algorithms. The key thing is that the API we use, because we want to be as secure as possible we don't want to send over the wire our real password, instead we want to send the hashed version of our password. But, here's the problem, even the hash version is not super secured because anybody can come now and type in and keep guessing and eventually hit on password123 and realize that the hashed version of password is the same as the hash version of password stored in the database. So, they will know what our password is. The API we are using uses a technique called `k-anonymity`. And this is actually a modern technique that big companies use. It allows somebody to receive information about us yet still not know who we are. Some companies that care about privacy use that technique to track the user but still not know who the user is. The way this works is that we only give the first 5 characters of our hash password. So, if we only give the first 5 characters of the hashed passwords, what that API does is that it has a list of all the passwords that have been leaked however all those passwords are hased with SHA1 algorithm. So, it will look through the database of the leaked password, and pick all the hash passwords that have the first 5 characters that match our password. This way, with the response, we are going to get all the passwords that are hashed and match with the first 5 characters of our password. So, on our end, when we receive that response we can check the rest of the hash function. This way the API is never going to know our hashed password, and therefore never ever be able to guess all our passwords. They will just know that we have this tiny bit of match between any 100s or 1000s of passwords. Now, if we run the script with the hashed version of our passowrd, we get a response of 200. \n",
        "```\n",
        "import requests\n",
        "url = 'https://api.pwnedpasswords.com/range/' + 'CBFDA'\n",
        "res = requests.get(url)\n",
        "print(res)\n",
        "``` "
      ],
      "metadata": {
        "id": "lNBaMabgmVy3"
      }
    },
    {
      "cell_type": "code",
      "source": [
        "import requests\n",
        "url = 'https://api.pwnedpasswords.com/range/' + 'CBFDA'\n",
        "res = requests.get(url)\n",
        "print(res)"
      ],
      "metadata": {
        "colab": {
          "base_uri": "https://localhost:8080/"
        },
        "id": "PrwRzhDrqIri",
        "outputId": "34259324-cd85-48d7-93b0-0d7b49796aac"
      },
      "execution_count": 5,
      "outputs": [
        {
          "output_type": "stream",
          "name": "stdout",
          "text": [
            "<Response [200]>\n"
          ]
        }
      ]
    },
    {
      "cell_type": "markdown",
      "source": [
        "## Hash Function"
      ],
      "metadata": {
        "id": "-dQf6Sanwq6y"
      }
    },
    {
      "cell_type": "markdown",
      "source": [
        "What is a hash function?\n",
        "\n",
        "It is simply a function that generates a value of fixed length for each input that it gets. What does that mean? The MD5 hash function generates a 32bit value for any length of input we give. The sha1 turns it into a gibberish of lenght 40. Thats what a hash function does - we give it an input and the function generates some random pattern. Now, there are some key functions of a hash function. First, it is one way. In the sense that, if we give someone the hashed value they have no idea of what the input was and it is practially impossible for us to have a clue of what the input is. The second, no matter how many times we run an input through an hash function, the hashed output will be the same. But as soon as we change even a small thing, the output will be completely changed. Even if we change `hello` to `Hello` the values of the hash function will be differet. And looking at this, we can say that if we give it the same input, it will give us the same result but we have no idea of how to convert it back to the original value. This is called `idempotent`. It basically means that the output remains the same, given the input is the same, no matter how many times we run it. "
      ],
      "metadata": {
        "id": "UkOQk_l2wsCn"
      }
    },
    {
      "cell_type": "markdown",
      "source": [
        "## Password Checker"
      ],
      "metadata": {
        "id": "71szwyLNzjlo"
      }
    },
    {
      "cell_type": "markdown",
      "source": [
        "We learned about the password API, and how that API allow us to trust no one, that is we only trust ourselves, and we are only going to give the bits of information that we feel comfortable to the API so that it gives us a response with some data so we can calculate on our machines that are hypothetically more secured. So, what we did above was instead of giving the entire hashed password, we just gave the first 5 characters of it. Now, they have close to 600 million passwords in their database. With this response data, we can now check our full hash to see if the password has ever been hacked. In the reponse we received from the API, we have several hundred lists of the hashes that we can check against.\n",
        "```\n",
        "import requests\n",
        "url = 'https://api.pwnedpasswords.com/range/' + 'CBFDA'\n",
        "res = requests.get(url)\n",
        "print(res)\n",
        "\n",
        "def request_api_data(query_char):\n",
        "  pass\n",
        "```\n",
        "We created a function to basically do what we did above, and to that function we will give the hashed version of our passwords. That function will request our data and give us a response.\n",
        "\n",
        "Next, with the response we receive, we want to check the pwned passwords. \n",
        "```\n",
        "def pwned_api_check(password):\n",
        "  pass\n",
        "```\n",
        "We will create a function to check that as well. And to that function we will pass our actual password `password123` and in that function we want to check if the password exists in API response. \n",
        "\n",
        "Let's start working on the first one - `request_api_data(query_char)`. We have already done some of that outside the function -\n",
        "```\n",
        "import requests\n",
        "\n",
        "def request_api_data(query_char):\n",
        "  url = 'https://api.pwnedpasswords.com/range/' + query_char\n",
        "  res = requests.get(url)\n",
        "  if res.status_code != 200:\n",
        "    raise RuntimeError(f\"Error fetching: {res.status_code}, check the api and try again\")\n",
        "  return response\n",
        "\n",
        "```\n",
        "Here, we changed the hashed values of the password to be dynamic. And we added an if statement to check if our code errors out.\n",
        "\n",
        "The next part is a little tricky because we want to run our password through the SHA1 algorithm. Luckily, Python has a built-in module for us to do that.\n",
        "```\n",
        "import hashlib\n",
        "```\n",
        "In here, first of all, we want to hash our password. \n",
        "```\n",
        "def pwned_api_check(password):\n",
        "  sha1password = hashlib.sha1(password.encode('utf-8'))\n",
        "```\n",
        "\n",
        "To convert our hashed password values from hash objects, we will use the `hexdigest()` method to convert the object from objects to hexadecimal string. The next part in order to agree with the API is to convert all the hex values to uppercase. And if we don't encode the password to UTF-8, our code will give us an error `Unicode-objects must be encoded before hashing`. This is just standard, nothing too crazy. The key here, is that by the end of it, we have a sha1 password that we can send. \n",
        "```\n",
        "def pwned_api_check(password):\n",
        "  sha1password = hashlib.sha1(password.encode('utf-8')).hexdigest().upper()\n",
        "  return sha1password\n",
        "```"
      ],
      "metadata": {
        "id": "OeIeZdW0zqL8"
      }
    },
    {
      "cell_type": "code",
      "source": [
        "import hashlib\n",
        "password = 'password123'\n",
        "print(password.encode('utf-8'))\n",
        "print(hashlib.sha1(password.encode('utf-8')))\n",
        "print(hashlib.sha1(password.encode('utf-8')).hexdigest())\n",
        "print(hashlib.sha1(password.encode('utf-8')).hexdigest().upper())"
      ],
      "metadata": {
        "colab": {
          "base_uri": "https://localhost:8080/"
        },
        "id": "15eizjlO3FNa",
        "outputId": "b3bafacd-249e-456a-82b2-1f6a1239ca84"
      },
      "execution_count": 20,
      "outputs": [
        {
          "output_type": "stream",
          "name": "stdout",
          "text": [
            "b'password123'\n",
            "<sha1 _hashlib.HASH object @ 0x7f1ae5f01a50>\n",
            "cbfdac6008f9cab4083784cbd1874f76618d2a97\n",
            "CBFDAC6008F9CAB4083784CBD1874F76618D2A97\n"
          ]
        }
      ]
    },
    {
      "cell_type": "code",
      "source": [
        "import requests\n",
        "import hashlib\n",
        "\n",
        "def request_api_data(query_char):\n",
        "  url = 'https://api.pwnedpasswords.com/range/' + query_char\n",
        "  res = requests.get(url)\n",
        "  if res.status_code != 200:\n",
        "    raise RuntimeError(f\"Error fetching: {res.status_code}, check the api and try again\")\n",
        "  return res\n",
        "\n",
        "def pwned_api_check(password):\n",
        "  sha1password = hashlib.sha1(password.encode('utf-8')).hexdigest().upper()\n",
        "  return sha1password"
      ],
      "metadata": {
        "id": "Z-rgqC018rtT"
      },
      "execution_count": 21,
      "outputs": []
    },
    {
      "cell_type": "markdown",
      "source": [
        "We have pwned api check that only converts our password to SHA1. But we need to send that to the password API. So, what can we do here?\n",
        "\n",
        "The first thing we want to do, is remember, we only need the first 5 characters of our password/hashed password. So, we can do something like this - \n",
        "```\n",
        "def pwned_api_check(password):\n",
        "  sha1password = hashlib.sha1(password.encode('utf-8')).hexdigest().upper()\n",
        "  first5_char, tail = sha1password[:5], sha1password[5:]\n",
        "  response = request_api_data(first5_char)\n",
        "  print(first5_char, tail)\n",
        "  print(response)\n",
        "  return response\n",
        "```\n",
        "We will store the first 5 characters in the first variable, and in the second variable we will store the remaining because we will need both of those later on. We can add that to our request API data and only send the first 5 characters. And we will also store the response. And we will also check what kind of response we get. So, we will return response. And to make sure that we are doing everything correct, we will also print the first 5 characters and the tail. When we run that we can see that we are not getting any errors and the response is also 200. Lets also print the response and make sure that is working as well. We still get a reponse of 200. But we are still not sure what type of data we receive. So, what can we do for that?\n",
        "\n",
        "We want to learn more about the data that we receive from the API. So, lets create another function and we will call it `read_response`:\n",
        "```\n",
        "def read_res(response):\n",
        "  print(response.text)\n",
        "```\n",
        "We will pass the response we get as an argument to that function and in the function we will try to read the response that we get. We can actually print `print(response.text)` because it is an API response so we can ideally read the text. And we will also add a return statement to the `pwned_api_check` function which will return `read_res(response)`. If we run that we will get a large list of hashed passwords. There would be a lot of them. Maybe a couple 100. So, that is what we get from our response. By using `response.text` we get all the hashes that match the beginning of our hashed password. In the response we get the passwords followed by how many times they were hacked. So, ideally we are able to grab the count, see any of it matches with our tail because now we can just check the tail and also print out the count. So, instead of having a `read_res` function, lets have a `get_password_leaks_count` function that receives the hashes or the response, and the actual hash to check which will be our password hash that we will need to check again. So, will check the hash to check and loop through all the hashes. \n",
        "```\n",
        "def get_password_leak_counts(hashes, hash_to_check):\n",
        "  hashes = (line.split(':') for line in hashes.text.splitlines())\n",
        "  for h in hashes:\n",
        "    print(h)\n",
        "```\n",
        "We use tuple comprehension to split everything in the line by the `:`. Then we use a for loop to loop over every lines in the hashes.text. If we leave it like that, it won't work because if we run that we will get a generator object. And we can loop over the generator object to see the split text but when we do that, it will split every single element into its own list. And to overcome that we use `.splitlines()` method on the `hashes.text`. Now if we run that, we actually get a seperate list of the hacked hased passwords that match the first 5 characters of our hashed password and the number of times they were hacked. Then we also add a for loop to go through every hash and return the passwords and the number of times they were hacked. We can also do a for loop like:\n",
        "```\n",
        "for h, count in hashes:\n",
        "  print(h, count)\n",
        "```\n",
        "We will have each item seperated. "
      ],
      "metadata": {
        "id": "rcQ4I_wv0wm2"
      }
    },
    {
      "cell_type": "code",
      "source": [
        "import requests\n",
        "import hashlib\n",
        "\n",
        "def request_api_data(query_char):\n",
        "  url = 'https://api.pwnedpasswords.com/range/' + query_char\n",
        "  res = requests.get(url)\n",
        "  if res.status_code != 200:\n",
        "    raise RuntimeError(f\"Error fetching: {res.status_code}, check the api and try again\")\n",
        "  return res\n",
        "\n",
        "def read_res(response):\n",
        "  print(response.text)\n",
        "\n",
        "def pwned_api_check(password):\n",
        "  sha1password = hashlib.sha1(password.encode('utf-8')).hexdigest().upper()\n",
        "  first5_char, tail = sha1password[:5], sha1password[5:]\n",
        "  response = request_api_data(first5_char)\n",
        "  print(first5_char, tail)\n",
        "  print(response)\n",
        "  return read_res(response)\n",
        "\n",
        "pwned_api_check('123')"
      ],
      "metadata": {
        "id": "FaOrJGMy0xai"
      },
      "execution_count": null,
      "outputs": []
    },
    {
      "cell_type": "code",
      "source": [
        "import requests\n",
        "import hashlib\n",
        "\n",
        "def request_api_data(query_char):\n",
        "  url = 'https://api.pwnedpasswords.com/range/' + query_char\n",
        "  res = requests.get(url)\n",
        "  if res.status_code != 200:\n",
        "    raise RuntimeError(f\"Error fetching: {res.status_code}, check the api and try again\")\n",
        "  return res\n",
        "\n",
        "def get_password_leak_counts(hashes, hash_to_check):\n",
        "  hashes = (line.split(':') for line in hashes.text.splitlines())\n",
        "  for h in hashes:\n",
        "    print(h)\n",
        "\n",
        "def pwned_api_check(password):\n",
        "  sha1password = hashlib.sha1(password.encode('utf-8')).hexdigest().upper()\n",
        "  first5_char, tail = sha1password[:5], sha1password[5:]\n",
        "  response = request_api_data(first5_char)\n",
        "  print(first5_char, tail)\n",
        "  print(response)\n",
        "  return get_password_leak_counts(response, tail)\n",
        "\n",
        "pwned_api_check(input())"
      ],
      "metadata": {
        "id": "cp_EiZLp64MV"
      },
      "execution_count": null,
      "outputs": []
    },
    {
      "cell_type": "markdown",
      "source": [
        "We now have the hash and the count, so now we can finalize the function of `get_password_leaks_count`. In there, as we are looping through each item, what do we want to check? We want to check that if the hash that is the tail of the hash is equal to hash to check. Remember, `hash_to_check` is the tail end of our hashed password that we never sent to anybody, that is on our own machine so it is nice and secure. So, we are going to check that because the API returned us a list of the tailed hashes that match the first 5 characters of our hashed function. So, if that matches, in that case we want to return the count. We want to return how many times that password has been leaked. Otherwise just return 0. Again, we can do that because its going to exit out of the loop whenever it sees the return keyword. \n",
        "```\n",
        "def get_password_leak_counts(hashes, hash_to_check):\n",
        "  hashes = (line.split(':') for line in hashes.text.splitlines\n",
        "  for h, count in hashes:\n",
        "    if h == hash_to_check:\n",
        "      return count\n",
        "    return 0\n",
        "```\n",
        "Now in our `pwned_api_check` we will run that function which in `tail` is going to grab all the information and return the count of the times that the hashed password has been leaked. \n",
        "\n",
        "Now we have one last thing to do. That is the ability to actually print out the result of all the calculations. So, create a `main` function which will receive all the arguments that we give in through the terminal. So, we will import the `sys` and we will have the main function that will receive the arguments for the password we want to check, and at the end we will call the main function `main(sys.argv[1:])` and accept any number fo arguments after we run the python3 command followed by the file name. on the terminal.\n",
        "```\n",
        "import sys\n",
        "def main(args):\n",
        "  for password in args:\n",
        "    count = pwned_api_check(password)\n",
        "    if count:\n",
        "      print(f'{password} was found {count} times...you should probably change the password')\n",
        "    else:\n",
        "      print(\"f{password} was not found. Carry on\"}\n",
        "    return 'done!'\n",
        "\n",
        "main(sys.argv[1:])\n",
        "```\n",
        "The main function will have a for loop for all the passwords that we give in the argument. We will loop through that and we will have the `count` which we will receive from the `get_password_leak_count` function. And we can do that by just calling the `pwned_api_check` function and passing the password we input through the terminal. Then we will check if the password was found in the list, and if yes then we will print a statement to suggest the user to check the password. \n"
      ],
      "metadata": {
        "id": "qJmJ5zh68wFq"
      }
    },
    {
      "cell_type": "code",
      "source": [
        "import requests\n",
        "import hashlib\n",
        "\n",
        "def request_api_data(query_char):\n",
        "  url = 'https://api.pwnedpasswords.com/range/' + query_char\n",
        "  res = requests.get(url)\n",
        "  if res.status_code != 200:\n",
        "    raise RuntimeError(f\"Error fetching: {res.status_code}, check the api and try again\")\n",
        "  return res\n",
        "\n",
        "def get_password_leak_counts(hashes, hash_to_check):\n",
        "  hashes = [line.split(':') for line in hashes.text.splitlines()]\n",
        "  for h, count in hashes:\n",
        "    if h == hash_to_check:\n",
        "      return count\n",
        "  return 0\n",
        "\n",
        "def pwned_api_check(password):\n",
        "  sha1password = hashlib.sha1(password.encode('utf-8')).hexdigest().upper()\n",
        "  first5_char, tail = sha1password[:5], sha1password[5:]\n",
        "  response = request_api_data(first5_char)\n",
        "  print(first5_char, tail)\n",
        "  print(response)\n",
        "  return get_password_leak_counts(response, tail)\n",
        "\n",
        "pwned_api_check(input())"
      ],
      "metadata": {
        "colab": {
          "base_uri": "https://localhost:8080/",
          "height": 87
        },
        "id": "4adC7Vjq_4PA",
        "outputId": "d05defa2-0b4e-4739-e0f5-93d0ea6eb9b9"
      },
      "execution_count": 15,
      "outputs": [
        {
          "output_type": "stream",
          "name": "stdout",
          "text": [
            "hello\n",
            "AAF4C 61DDCC5E8A2DABEDE0F3B482CD9AEA9434D\n",
            "<Response [200]>\n"
          ]
        },
        {
          "output_type": "execute_result",
          "data": {
            "text/plain": [
              "'264149'"
            ],
            "application/vnd.google.colaboratory.intrinsic+json": {
              "type": "string"
            }
          },
          "metadata": {},
          "execution_count": 15
        }
      ]
    },
    {
      "cell_type": "markdown",
      "source": [
        "### NOTE\n",
        "Run the following code can be ran on a Python IDE"
      ],
      "metadata": {
        "id": "xgfgsg41Ghz4"
      }
    },
    {
      "cell_type": "code",
      "source": [
        "import sys\n",
        "import requests\n",
        "import hashlib\n",
        "\n",
        "def request_api_data(query_char):\n",
        "  url = 'https://api.pwnedpasswords.com/range/' + query_char\n",
        "  res = requests.get(url)\n",
        "  if res.status_code != 200:\n",
        "    raise RuntimeError(f\"Error fetching: {res.status_code}, check the api and try again\")\n",
        "  return res\n",
        "\n",
        "def get_password_leak_counts(hashes, hash_to_check):\n",
        "  hashes = [line.split(':') for line in hashes.text.splitlines()]\n",
        "  for h, count in hashes:\n",
        "    if h == hash_to_check:\n",
        "      return count\n",
        "  return 0\n",
        "\n",
        "def pwned_api_check(password):\n",
        "  sha1password = hashlib.sha1(password.encode('utf-8')).hexdigest().upper()\n",
        "  first5_char, tail = sha1password[:5], sha1password[5:]\n",
        "  response = request_api_data(first5_char)\n",
        "  print(first5_char, tail)\n",
        "  return get_password_leak_counts(response, tail)\n",
        "\n",
        "def main(password):\n",
        "  #for password in args:\n",
        "  count = pwned_api_check(password)\n",
        "  if count:\n",
        "    print(f'{password} was found {count} times...you should probably change the password')\n",
        "  else:\n",
        "    print(\"f{password} was not found. Carry on\")\n",
        "  return 'done!'\n",
        "\n",
        "main(input())"
      ],
      "metadata": {
        "id": "EJEE0WnTFq86"
      },
      "execution_count": null,
      "outputs": []
    },
    {
      "cell_type": "markdown",
      "source": [
        "### NOTE\n",
        "Run the below code can be only ran on terminal.\n",
        "\n",
        "To run it on terminal, open the terminal and set the working directory to that of the python file you store it in. Type the following commands - \n",
        "```\n",
        "python3 filename.py <your_password>\n",
        "```\n",
        "You can also enter multiple passwords"
      ],
      "metadata": {
        "id": "Dozag4usGbb9"
      }
    },
    {
      "cell_type": "code",
      "source": [
        "import sys\n",
        "import requests\n",
        "import hashlib\n",
        "\n",
        "def request_api_data(query_char):\n",
        "  url = 'https://api.pwnedpasswords.com/range/' + query_char\n",
        "  res = requests.get(url)\n",
        "  if res.status_code != 200:\n",
        "    raise RuntimeError(f\"Error fetching: {res.status_code}, check the api and try again\")\n",
        "  return res\n",
        "\n",
        "def get_password_leak_counts(hashes, hash_to_check):\n",
        "  hashes = [line.split(':') for line in hashes.text.splitlines()]\n",
        "  for h, count in hashes:\n",
        "    if h == hash_to_check:\n",
        "      return count\n",
        "  return 0\n",
        "\n",
        "def pwned_api_check(password):\n",
        "  sha1password = hashlib.sha1(password.encode('utf-8')).hexdigest().upper()\n",
        "  first5_char, tail = sha1password[:5], sha1password[5:]\n",
        "  response = request_api_data(first5_char)\n",
        "  print(first5_char, tail)\n",
        "  return get_password_leak_counts(response, tail)\n",
        "\n",
        "def main(args):\n",
        "  for password in args:\n",
        "    count = pwned_api_check(password)\n",
        "    if count:\n",
        "      print(f'{password} was found {count} times...you should probably change the password')\n",
        "    else:\n",
        "      print(\"f{password} was not found. Carry on\")\n",
        "    return 'done!'\n",
        "\n",
        "main(sys.argv[1:])"
      ],
      "metadata": {
        "id": "h7lpJeWvGOma"
      },
      "execution_count": null,
      "outputs": []
    },
    {
      "cell_type": "markdown",
      "source": [
        "## Future scope\n",
        "\n",
        "When we run a script on terminal, and press the up arrow we can see the previous commands we ran. So, that means that the password we entered to check if it has been hacked or not is still stored somewhere on our system. To make it more private, since this whole project is about privacy, we can read the passwords from a text file instead of tying it out in the terminal. "
      ],
      "metadata": {
        "id": "eixzQAuGH4Lz"
      }
    }
  ]
}